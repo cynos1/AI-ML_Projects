{
 "cells": [
  {
   "cell_type": "code",
   "execution_count": 1,
   "id": "e8d74e1a",
   "metadata": {},
   "outputs": [],
   "source": [
    "# pip install tensorflow"
   ]
  },
  {
   "cell_type": "code",
   "execution_count": null,
   "id": "26a8bfdc",
   "metadata": {},
   "outputs": [],
   "source": [
    "import tensorflow as tf\n",
    "print(\"TensorFlow version:\", tf.__version__)"
   ]
  },
  {
   "cell_type": "markdown",
   "id": "0c2b6a9e",
   "metadata": {},
   "source": [
    "### project goal:\n",
    "Design, train, and evaluate a neural network model performing the task of regression to predict the life expectancy of countries using this dataset."
   ]
  },
  {
   "cell_type": "code",
   "execution_count": null,
   "id": "b0a518c2",
   "metadata": {},
   "outputs": [],
   "source": [
    "# Importing necessary libraries\n",
    "import pandas as pd\n",
    "from sklearn.model_selection import train_test_split\n",
    "from sklearn.compose import ColumnTransformer\n",
    "from sklearn.preprocessing import StandardScaler\n",
    "from tensorflow.keras.models import Sequential\n",
    "from tensorflow.keras.layers import InputLayer, Dense\n",
    "from tensorflow.keras.optimizers import Adam"
   ]
  },
  {
   "cell_type": "code",
   "execution_count": null,
   "id": "61739333",
   "metadata": {},
   "outputs": [],
   "source": [
    "# Loading the dataset\n",
    "dataset = pd.read_csv('life_expectancy.csv')"
   ]
  },
  {
   "cell_type": "code",
   "execution_count": null,
   "id": "75cc5f4e",
   "metadata": {},
   "outputs": [],
   "source": [
    "# Dropping the 'Country' column\n",
    "dataset = dataset.drop(columns='Country')"
   ]
  },
  {
   "cell_type": "code",
   "execution_count": null,
   "id": "edd56323",
   "metadata": {},
   "outputs": [],
   "source": [
    "# Splitting features and labels\n",
    "labels = dataset.iloc[:, -1]\n",
    "features = dataset.iloc[:, :-1]"
   ]
  },
  {
   "cell_type": "code",
   "execution_count": null,
   "id": "41391af1",
   "metadata": {},
   "outputs": [],
   "source": [
    "# Performing one-hot encoding\n",
    "features = pd.get_dummies(features)"
   ]
  },
  {
   "cell_type": "code",
   "execution_count": null,
   "id": "e6ed25fa",
   "metadata": {},
   "outputs": [],
   "source": [
    "# Splitting the dataset into training and testing sets\n",
    "features_train, features_test, labels_train, labels_test = train_test_split(features, labels, test_size=0.3, random_state=42)"
   ]
  },
  {
   "cell_type": "code",
   "execution_count": null,
   "id": "97555249",
   "metadata": {},
   "outputs": [],
   "source": [
    "# Extracting numerical features for Standard Scaling\n",
    "numerical_features_train = features_train.select_dtypes(include=['float64', 'int64']).join(features_train.select_dtypes(include=['uint8']))\n",
    "numerical_features_test = features_test.select_dtypes(include=['float64', 'int64']).join(features_test.select_dtypes(include=['uint8']))\n",
    "\n",
    "numerical_columns = numerical_features_train.columns"
   ]
  },
  {
   "cell_type": "code",
   "execution_count": null,
   "id": "6e6dde6c",
   "metadata": {},
   "outputs": [],
   "source": [
    "# Applying Standard Scaling using ColumnTransformer\n",
    "ct = ColumnTransformer([('only numeric', StandardScaler(), numerical_columns)], remainder='passthrough')\n",
    "\n",
    "features_train_scaled = ct.fit_transform(features_train)\n",
    "features_test_scaled = ct.transform(features_test)"
   ]
  },
  {
   "cell_type": "code",
   "execution_count": null,
   "id": "b667a79d",
   "metadata": {},
   "outputs": [],
   "source": [
    "# create a sequential model\n",
    "my_model = Sequential()"
   ]
  },
  {
   "cell_type": "code",
   "execution_count": null,
   "id": "b524167f",
   "metadata": {},
   "outputs": [],
   "source": [
    "# create an input layer\n",
    "input = InputLayer(input_shape = (features.shape[1],))"
   ]
  },
  {
   "cell_type": "code",
   "execution_count": null,
   "id": "89b8a723",
   "metadata": {},
   "outputs": [],
   "source": [
    "# add the input layer\n",
    "my_model.add(input)"
   ]
  },
  {
   "cell_type": "code",
   "execution_count": null,
   "id": "86608700",
   "metadata": {},
   "outputs": [],
   "source": [
    "# add a hidden layer with 128 units\n",
    "my_model.add(Dense(128, activation='relu'))"
   ]
  },
  {
   "cell_type": "code",
   "execution_count": null,
   "id": "baeb651e",
   "metadata": {},
   "outputs": [],
   "source": [
    "# add an output layer\n",
    "my_model.add(Dense(1))\n",
    "\n",
    "print(my_model.summary())"
   ]
  },
  {
   "cell_type": "code",
   "execution_count": null,
   "id": "60ab05b1",
   "metadata": {},
   "outputs": [],
   "source": [
    "# create an optimizer\n",
    "opt = Adam(learning_rate=0.01)"
   ]
  },
  {
   "cell_type": "code",
   "execution_count": null,
   "id": "d4fefe6d",
   "metadata": {},
   "outputs": [],
   "source": [
    "# compile the model\n",
    "my_model.compile(loss = ['mse'], metrics=['mae'], optimizer=opt)"
   ]
  },
  {
   "cell_type": "code",
   "execution_count": null,
   "id": "67439a47",
   "metadata": {},
   "outputs": [],
   "source": [
    "# Train your model with the Sequential.fit()\n",
    "my_model.fit(features_train_scaled, labels_train, epochs=40,batch_size=1,verbose=1)"
   ]
  },
  {
   "cell_type": "code",
   "execution_count": null,
   "id": "6780192e",
   "metadata": {},
   "outputs": [],
   "source": [
    "# evaluate trained model\n",
    "res_mse, res_mae = my_model.evaluate(features_test_scaled,labels_test, verbose=0)"
   ]
  },
  {
   "cell_type": "code",
   "execution_count": null,
   "id": "66dd3e13",
   "metadata": {},
   "outputs": [],
   "source": [
    "# Print your final loss (RMSE) and final metric (MAE) \n",
    "print(res_mse,res_mae)"
   ]
  }
 ],
 "metadata": {
  "kernelspec": {
   "display_name": "Python 3",
   "language": "python",
   "name": "python3"
  },
  "language_info": {
   "codemirror_mode": {
    "name": "ipython",
    "version": 3
   },
   "file_extension": ".py",
   "mimetype": "text/x-python",
   "name": "python",
   "nbconvert_exporter": "python",
   "pygments_lexer": "ipython3",
   "version": "3.8.8"
  }
 },
 "nbformat": 4,
 "nbformat_minor": 5
}
