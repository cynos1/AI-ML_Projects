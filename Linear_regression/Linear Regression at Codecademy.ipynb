{
 "cells": [
  {
   "cell_type": "markdown",
   "id": "ff4befff",
   "metadata": {},
   "source": [
    "For this project, you’ll get to work as a data analyst alongside the curriculum team at Codecademy to help us improve the learner experience. While this data is simulated, it is similar to real data that we might want to investigate as Codecademy team members!"
   ]
  },
  {
   "cell_type": "markdown",
   "id": "348c0776",
   "metadata": {},
   "source": [
    "### Inspect the data"
   ]
  },
  {
   "cell_type": "code",
   "execution_count": 1,
   "id": "644d7a9c",
   "metadata": {},
   "outputs": [],
   "source": [
    "import pandas as pd\n",
    "import numpy as np"
   ]
  },
  {
   "cell_type": "markdown",
   "id": "d74e63f8",
   "metadata": {},
   "source": [
    "We’re imagining that this data was collected as part of an experiment to understand factors that contribute to learner performance on a quiz. The data contains three columns:\n",
    "\n",
    "#### score: \n",
    "student score on a quiz\n",
    "#### completed: \n",
    "the number of other content items on Codecademy that the learner has completed prior to this quiz\n",
    "#### lesson: \n",
    "indicates which lesson the learner took directly before the quiz ('Lesson A' or 'Lesson B')"
   ]
  },
  {
   "cell_type": "code",
   "execution_count": 2,
   "id": "eca34ce7",
   "metadata": {},
   "outputs": [
    {
     "data": {
      "text/html": [
       "<div>\n",
       "<style scoped>\n",
       "    .dataframe tbody tr th:only-of-type {\n",
       "        vertical-align: middle;\n",
       "    }\n",
       "\n",
       "    .dataframe tbody tr th {\n",
       "        vertical-align: top;\n",
       "    }\n",
       "\n",
       "    .dataframe thead th {\n",
       "        text-align: right;\n",
       "    }\n",
       "</style>\n",
       "<table border=\"1\" class=\"dataframe\">\n",
       "  <thead>\n",
       "    <tr style=\"text-align: right;\">\n",
       "      <th></th>\n",
       "      <th>score</th>\n",
       "      <th>completed</th>\n",
       "      <th>lesson</th>\n",
       "      <th>Unnamed: 3</th>\n",
       "      <th>Unnamed: 4</th>\n",
       "      <th>Unnamed: 5</th>\n",
       "    </tr>\n",
       "  </thead>\n",
       "  <tbody>\n",
       "    <tr>\n",
       "      <th>0</th>\n",
       "      <td>82.7</td>\n",
       "      <td>35.0</td>\n",
       "      <td>Lesson A</td>\n",
       "      <td>NaN</td>\n",
       "      <td>NaN</td>\n",
       "      <td>NaN</td>\n",
       "    </tr>\n",
       "    <tr>\n",
       "      <th>1</th>\n",
       "      <td>65.2</td>\n",
       "      <td>31.0</td>\n",
       "      <td>Lesson A</td>\n",
       "      <td>NaN</td>\n",
       "      <td>NaN</td>\n",
       "      <td>NaN</td>\n",
       "    </tr>\n",
       "    <tr>\n",
       "      <th>2</th>\n",
       "      <td>55.3</td>\n",
       "      <td>33.0</td>\n",
       "      <td>Lesson A</td>\n",
       "      <td>NaN</td>\n",
       "      <td>NaN</td>\n",
       "      <td>NaN</td>\n",
       "    </tr>\n",
       "    <tr>\n",
       "      <th>3</th>\n",
       "      <td>28.8</td>\n",
       "      <td>25.0</td>\n",
       "      <td>Lesson B</td>\n",
       "      <td>NaN</td>\n",
       "      <td>NaN</td>\n",
       "      <td>NaN</td>\n",
       "    </tr>\n",
       "    <tr>\n",
       "      <th>4</th>\n",
       "      <td>31.2</td>\n",
       "      <td>18.0</td>\n",
       "      <td>Lesson B</td>\n",
       "      <td>NaN</td>\n",
       "      <td>NaN</td>\n",
       "      <td>NaN</td>\n",
       "    </tr>\n",
       "  </tbody>\n",
       "</table>\n",
       "</div>"
      ],
      "text/plain": [
       "   score  completed    lesson  Unnamed: 3  Unnamed: 4  Unnamed: 5\n",
       "0   82.7       35.0  Lesson A         NaN         NaN         NaN\n",
       "1   65.2       31.0  Lesson A         NaN         NaN         NaN\n",
       "2   55.3       33.0  Lesson A         NaN         NaN         NaN\n",
       "3   28.8       25.0  Lesson B         NaN         NaN         NaN\n",
       "4   31.2       18.0  Lesson B         NaN         NaN         NaN"
      ]
     },
     "execution_count": 2,
     "metadata": {},
     "output_type": "execute_result"
    }
   ],
   "source": [
    "df = pd.read_csv('codecademy.csv')\n",
    "df.head()"
   ]
  },
  {
   "cell_type": "code",
   "execution_count": 3,
   "id": "fc91b2d5",
   "metadata": {},
   "outputs": [
    {
     "data": {
      "text/html": [
       "<div>\n",
       "<style scoped>\n",
       "    .dataframe tbody tr th:only-of-type {\n",
       "        vertical-align: middle;\n",
       "    }\n",
       "\n",
       "    .dataframe tbody tr th {\n",
       "        vertical-align: top;\n",
       "    }\n",
       "\n",
       "    .dataframe thead th {\n",
       "        text-align: right;\n",
       "    }\n",
       "</style>\n",
       "<table border=\"1\" class=\"dataframe\">\n",
       "  <thead>\n",
       "    <tr style=\"text-align: right;\">\n",
       "      <th></th>\n",
       "      <th>score</th>\n",
       "      <th>completed</th>\n",
       "      <th>lesson</th>\n",
       "    </tr>\n",
       "  </thead>\n",
       "  <tbody>\n",
       "    <tr>\n",
       "      <th>0</th>\n",
       "      <td>82.7</td>\n",
       "      <td>35.0</td>\n",
       "      <td>Lesson A</td>\n",
       "    </tr>\n",
       "    <tr>\n",
       "      <th>1</th>\n",
       "      <td>65.2</td>\n",
       "      <td>31.0</td>\n",
       "      <td>Lesson A</td>\n",
       "    </tr>\n",
       "    <tr>\n",
       "      <th>2</th>\n",
       "      <td>55.3</td>\n",
       "      <td>33.0</td>\n",
       "      <td>Lesson A</td>\n",
       "    </tr>\n",
       "    <tr>\n",
       "      <th>3</th>\n",
       "      <td>28.8</td>\n",
       "      <td>25.0</td>\n",
       "      <td>Lesson B</td>\n",
       "    </tr>\n",
       "    <tr>\n",
       "      <th>4</th>\n",
       "      <td>31.2</td>\n",
       "      <td>18.0</td>\n",
       "      <td>Lesson B</td>\n",
       "    </tr>\n",
       "  </tbody>\n",
       "</table>\n",
       "</div>"
      ],
      "text/plain": [
       "   score  completed    lesson\n",
       "0   82.7       35.0  Lesson A\n",
       "1   65.2       31.0  Lesson A\n",
       "2   55.3       33.0  Lesson A\n",
       "3   28.8       25.0  Lesson B\n",
       "4   31.2       18.0  Lesson B"
      ]
     },
     "execution_count": 3,
     "metadata": {},
     "output_type": "execute_result"
    }
   ],
   "source": [
    "df = df[['score', 'completed', 'lesson']]\n",
    "df.head()"
   ]
  },
  {
   "cell_type": "markdown",
   "id": "f930c1b5",
   "metadata": {},
   "source": [
    "### Model the relationship between quiz score and number of completed content items"
   ]
  },
  {
   "cell_type": "code",
   "execution_count": 4,
   "id": "e160dad0",
   "metadata": {},
   "outputs": [
    {
     "data": {
      "image/png": "[encoded data removed]",
      "text/plain": [
       "<Figure size 432x288 with 1 Axes>"
      ]
     },
     "metadata": {
      "needs_background": "light"
     },
     "output_type": "display_data"
    },
    {
     "data": {
      "text/plain": [
       "<Figure size 432x288 with 0 Axes>"
      ]
     },
     "metadata": {},
     "output_type": "display_data"
    }
   ],
   "source": [
    "import matplotlib.pyplot as plt\n",
    "import seaborn as sns\n",
    "\n",
    "# Plot a scatter plot of score (y-axis) against completed (x-axis) to see the relationship between quiz score and number of completed content items\n",
    "sns.scatterplot(x = 'completed', y = 'score', data = df)\n",
    "plt.show()\n",
    "plt.clf()"
   ]
  },
  {
   "cell_type": "markdown",
   "id": "65170e7a",
   "metadata": {},
   "source": [
    "#### Is there a relationship between these two variables, and does it appear to be linear?\n",
    "\n",
    "There is a strong linear relationship between score and completed lessons. the more lessons you complete the higher your score becomes\n"
   ]
  },
  {
   "cell_type": "code",
   "execution_count": 5,
   "id": "8e66aef5",
   "metadata": {},
   "outputs": [
    {
     "name": "stdout",
     "output_type": "stream",
     "text": [
      "Intercept    13.214113\n",
      "completed     1.306826\n",
      "dtype: float64\n"
     ]
    }
   ],
   "source": [
    "import statsmodels.api as sm\n",
    "# Create and fit a linear regression model that predicts score using completed as the predictor. Print out the regression coefficients\n",
    "model = sm.OLS.from_formula('score ~ completed', data = df)\n",
    "results = model.fit()\n",
    "print(results.params)"
   ]
  },
  {
   "cell_type": "markdown",
   "id": "ae481703",
   "metadata": {},
   "source": [
    "### Interpretation\n",
    "The student's score is 13.2 when he or she does not complete any prior lessons. However,  the student who has completed an additional prior lesson gets 1.3 additional points "
   ]
  },
  {
   "cell_type": "code",
   "execution_count": 6,
   "id": "968c219e",
   "metadata": {},
   "outputs": [
    {
     "data": {
      "image/png": "[encoded data removed]",
      "text/plain": [
       "<Figure size 432x288 with 1 Axes>"
      ]
     },
     "metadata": {
      "needs_background": "light"
     },
     "output_type": "display_data"
    },
    {
     "data": {
      "text/plain": [
       "<Figure size 432x288 with 0 Axes>"
      ]
     },
     "metadata": {},
     "output_type": "display_data"
    }
   ],
   "source": [
    "# Plot a scatter plot of score (y-axis) against completed (x-axis) to see the relationship between quiz score and number of completed content items \n",
    "# but this time add the regression line on top of the plot\n",
    "sns.regplot(x = 'completed', y = 'score', data = df)\n",
    "plt.show()\n",
    "plt.clf()"
   ]
  },
  {
   "cell_type": "code",
   "execution_count": 7,
   "id": "f4a551e8",
   "metadata": {},
   "outputs": [
    {
     "data": {
      "text/plain": [
       "0    39.350625\n",
       "dtype: float64"
      ]
     },
     "execution_count": 7,
     "metadata": {},
     "output_type": "execute_result"
    }
   ],
   "source": [
    "# Use your model to calculate the predicted quiz score for a learner who has previously completed 20 other content items.\n",
    "\n",
    "# print(results.params[0] + results.params[1] *20)\n",
    "results.predict({'completed': 20})"
   ]
  },
  {
   "cell_type": "code",
   "execution_count": 8,
   "id": "34ef8265",
   "metadata": {},
   "outputs": [
    {
     "data": {
      "text/plain": [
       "0     58.953009\n",
       "1     53.725706\n",
       "2     56.339358\n",
       "3     45.884753\n",
       "4     36.736974\n",
       "        ...    \n",
       "95    53.725706\n",
       "96    82.475869\n",
       "97    43.271102\n",
       "98    40.657450\n",
       "99    51.112055\n",
       "Length: 100, dtype: float64"
      ]
     },
     "execution_count": 8,
     "metadata": {},
     "output_type": "execute_result"
    }
   ],
   "source": [
    "# predict the entire completed column\n",
    "fitted_values = results.predict(df)\n",
    "fitted_values"
   ]
  },
  {
   "cell_type": "code",
   "execution_count": 9,
   "id": "5c58eecb",
   "metadata": {},
   "outputs": [
    {
     "data": {
      "text/plain": [
       "0     23.746991\n",
       "1     11.474294\n",
       "2     -1.039358\n",
       "3    -17.084753\n",
       "4     -5.536974\n",
       "        ...    \n",
       "95     6.274294\n",
       "96    -6.675869\n",
       "97   -15.871102\n",
       "98     5.942550\n",
       "99     6.187945\n",
       "Length: 100, dtype: float64"
      ]
     },
     "execution_count": 9,
     "metadata": {},
     "output_type": "execute_result"
    }
   ],
   "source": [
    "residuals = df.score - fitted_values\n",
    "residuals"
   ]
  },
  {
   "cell_type": "code",
   "execution_count": 10,
   "id": "d3f3d1c1",
   "metadata": {},
   "outputs": [
    {
     "data": {
      "image/png": "[encoded data removed]",
      "text/plain": [
       "<Figure size 432x288 with 1 Axes>"
      ]
     },
     "metadata": {
      "needs_background": "light"
     },
     "output_type": "display_data"
    },
    {
     "data": {
      "text/plain": [
       "<Figure size 432x288 with 0 Axes>"
      ]
     },
     "metadata": {},
     "output_type": "display_data"
    }
   ],
   "source": [
    "# Check the normality assumption for linear regression by plotting a histogram of the residuals\n",
    "sns.histplot(residuals)\n",
    "plt.show()\n",
    "plt.clf()"
   ]
  },
  {
   "cell_type": "code",
   "execution_count": 11,
   "id": "7f2e29e8",
   "metadata": {},
   "outputs": [
    {
     "data": {
      "image/png": "[encoded data removed]",
      "text/plain": [
       "<Figure size 432x288 with 1 Axes>"
      ]
     },
     "metadata": {
      "needs_background": "light"
     },
     "output_type": "display_data"
    },
    {
     "data": {
      "text/plain": [
       "<Figure size 432x288 with 0 Axes>"
      ]
     },
     "metadata": {},
     "output_type": "display_data"
    }
   ],
   "source": [
    "# Check the homoscedasticity assumption for linear regression by plotting the residuals (y-axis) against the fitted values (x-axis).\n",
    "sns.scatterplot(x= fitted_values, y=residuals)\n",
    "plt.show()\n",
    "plt.clf()"
   ]
  },
  {
   "cell_type": "markdown",
   "id": "62cc1214",
   "metadata": {},
   "source": [
    "The homoscedasticity assumption is met. there are no patterns"
   ]
  },
  {
   "cell_type": "markdown",
   "id": "03c35646",
   "metadata": {},
   "source": [
    "### Do learners who take lesson A or B perform better on the quiz?"
   ]
  },
  {
   "cell_type": "code",
   "execution_count": 12,
   "id": "5251fafc",
   "metadata": {},
   "outputs": [
    {
     "data": {
      "image/png": "[encoded data removed]",
      "text/plain": [
       "<Figure size 432x288 with 1 Axes>"
      ]
     },
     "metadata": {
      "needs_background": "light"
     },
     "output_type": "display_data"
    },
    {
     "data": {
      "text/plain": [
       "<Figure size 432x288 with 0 Axes>"
      ]
     },
     "metadata": {},
     "output_type": "display_data"
    }
   ],
   "source": [
    "sns.boxplot(x='lesson', y='score', data=df)\n",
    "plt.show()\n",
    "plt.clf()"
   ]
  },
  {
   "cell_type": "markdown",
   "id": "046fd12a",
   "metadata": {},
   "source": [
    "Lesson A appears to be doing better than lesson B"
   ]
  },
  {
   "cell_type": "code",
   "execution_count": 13,
   "id": "e39bfd40",
   "metadata": {},
   "outputs": [
    {
     "name": "stdout",
     "output_type": "stream",
     "text": [
      "Intercept             59.220\n",
      "lesson[T.Lesson B]   -11.642\n",
      "dtype: float64\n"
     ]
    }
   ],
   "source": [
    "# Create and fit a linear regression model that predicts score using lesson as the predictor. Print out the regression coefficients.\n",
    "model = sm.OLS.from_formula('score ~ lesson', df)\n",
    "results = model.fit()\n",
    "print(results.params)"
   ]
  },
  {
   "cell_type": "code",
   "execution_count": 14,
   "id": "305703e9",
   "metadata": {},
   "outputs": [
    {
     "data": {
      "text/html": [
       "<div>\n",
       "<style scoped>\n",
       "    .dataframe tbody tr th:only-of-type {\n",
       "        vertical-align: middle;\n",
       "    }\n",
       "\n",
       "    .dataframe tbody tr th {\n",
       "        vertical-align: top;\n",
       "    }\n",
       "\n",
       "    .dataframe thead th {\n",
       "        text-align: right;\n",
       "    }\n",
       "</style>\n",
       "<table border=\"1\" class=\"dataframe\">\n",
       "  <thead>\n",
       "    <tr style=\"text-align: right;\">\n",
       "      <th></th>\n",
       "      <th>lesson</th>\n",
       "      <th>score</th>\n",
       "    </tr>\n",
       "  </thead>\n",
       "  <tbody>\n",
       "    <tr>\n",
       "      <th>0</th>\n",
       "      <td>Lesson A</td>\n",
       "      <td>59.220</td>\n",
       "    </tr>\n",
       "    <tr>\n",
       "      <th>1</th>\n",
       "      <td>Lesson B</td>\n",
       "      <td>47.578</td>\n",
       "    </tr>\n",
       "  </tbody>\n",
       "</table>\n",
       "</div>"
      ],
      "text/plain": [
       "     lesson   score\n",
       "0  Lesson A  59.220\n",
       "1  Lesson B  47.578"
      ]
     },
     "execution_count": 14,
     "metadata": {},
     "output_type": "execute_result"
    }
   ],
   "source": [
    "# Calculate and print out the mean quiz scores for learners who took lesson A and lesson B.\n",
    "\n",
    "les_sco = df.groupby('lesson').agg({'score': 'mean'}).reset_index()\n",
    "les_sco"
   ]
  },
  {
   "cell_type": "code",
   "execution_count": 15,
   "id": "15c33e09",
   "metadata": {},
   "outputs": [
    {
     "data": {
      "text/plain": [
       "0    59.220\n",
       "1    47.578\n",
       "Name: score, dtype: float64"
      ]
     },
     "execution_count": 15,
     "metadata": {},
     "output_type": "execute_result"
    }
   ],
   "source": [
    "sco = les_sco.iloc[:, 1]\n",
    "sco"
   ]
  },
  {
   "cell_type": "code",
   "execution_count": 16,
   "id": "8188c0c4",
   "metadata": {},
   "outputs": [
    {
     "data": {
      "text/plain": [
       "11.641999999999996"
      ]
     },
     "execution_count": 16,
     "metadata": {},
     "output_type": "execute_result"
    }
   ],
   "source": [
    "# print mean difference\n",
    "sco[0] - sco[1]"
   ]
  },
  {
   "cell_type": "markdown",
   "id": "63f89dc2",
   "metadata": {},
   "source": [
    "The mean difference is the same as the lesson B slope"
   ]
  },
  {
   "cell_type": "code",
   "execution_count": 17,
   "id": "7d46bf63",
   "metadata": {},
   "outputs": [
    {
     "data": {
      "image/png": "[encoded data removed]",
      "text/plain": [
       "<Figure size 440.375x360 with 1 Axes>"
      ]
     },
     "metadata": {
      "needs_background": "light"
     },
     "output_type": "display_data"
    },
    {
     "data": {
      "text/plain": [
       "<Figure size 432x288 with 0 Axes>"
      ]
     },
     "metadata": {},
     "output_type": "display_data"
    }
   ],
   "source": [
    "sns.lmplot(x='completed', y='score', hue='lesson', data=df)\n",
    "plt.show()\n",
    "plt.clf()"
   ]
  },
  {
   "cell_type": "code",
   "execution_count": null,
   "id": "c88433aa",
   "metadata": {},
   "outputs": [],
   "source": []
  }
 ],
 "metadata": {
  "kernelspec": {
   "display_name": "Python 3",
   "language": "python",
   "name": "python3"
  },
  "language_info": {
   "codemirror_mode": {
    "name": "ipython",
    "version": 3
   },
   "file_extension": ".py",
   "mimetype": "text/x-python",
   "name": "python",
   "nbconvert_exporter": "python",
   "pygments_lexer": "ipython3",
   "version": "3.8.8"
  }
 },
 "nbformat": 4,
 "nbformat_minor": 5
}
